{
 "cells": [
  {
   "cell_type": "code",
   "execution_count": 22,
   "id": "4368a60b",
   "metadata": {},
   "outputs": [],
   "source": [
    "import pandas as pd\n",
    "import numpy as np\n",
    "import matplotlib.pyplot as plt\n",
    "import seaborn as sns\n",
    "import time"
   ]
  },
  {
   "cell_type": "code",
   "execution_count": 23,
   "id": "9f3e9345",
   "metadata": {},
   "outputs": [],
   "source": [
    "data = pd.read_csv('../data/superstore_cleaned.csv')"
   ]
  },
  {
   "cell_type": "code",
   "execution_count": 24,
   "id": "16437304",
   "metadata": {},
   "outputs": [
    {
     "data": {
      "application/vnd.microsoft.datawrangler.viewer.v0+json": {
       "columns": [
        {
         "name": "index",
         "rawType": "int64",
         "type": "integer"
        },
        {
         "name": "Order Date",
         "rawType": "object",
         "type": "string"
        },
        {
         "name": "Order ID",
         "rawType": "object",
         "type": "string"
        },
        {
         "name": "Ship Date",
         "rawType": "object",
         "type": "string"
        },
        {
         "name": "Ship Mode",
         "rawType": "object",
         "type": "string"
        },
        {
         "name": "Customer ID",
         "rawType": "object",
         "type": "string"
        },
        {
         "name": "Customer Name",
         "rawType": "object",
         "type": "string"
        },
        {
         "name": "Segment",
         "rawType": "object",
         "type": "string"
        },
        {
         "name": "Country",
         "rawType": "object",
         "type": "string"
        },
        {
         "name": "City",
         "rawType": "object",
         "type": "string"
        },
        {
         "name": "State",
         "rawType": "object",
         "type": "string"
        },
        {
         "name": "Postal Code",
         "rawType": "float64",
         "type": "float"
        },
        {
         "name": "Region",
         "rawType": "object",
         "type": "string"
        },
        {
         "name": "Product ID",
         "rawType": "object",
         "type": "string"
        },
        {
         "name": "Category",
         "rawType": "object",
         "type": "string"
        },
        {
         "name": "Sub-Category",
         "rawType": "object",
         "type": "string"
        },
        {
         "name": "Product Name",
         "rawType": "object",
         "type": "string"
        },
        {
         "name": "Sales",
         "rawType": "float64",
         "type": "float"
        }
       ],
       "ref": "d8c74645-9732-47cd-add2-8add405e3395",
       "rows": [
        [
         "0",
         "2015-01-03",
         "CA-2015-103800",
         "2015-01-07",
         "Standard Class",
         "DP-13000",
         "Darren Powers",
         "Consumer",
         "United States",
         "Houston",
         "Texas",
         "77095.0",
         "Central",
         "OFF-PA-10000174",
         "Office Supplies",
         "Paper",
         "Message Book, Wirebound, Four 5 1/2\" X 4\" Forms/Pg., 200 Dupl. Sets/Book",
         "16.448"
        ],
        [
         "1",
         "2015-01-04",
         "CA-2015-112326",
         "2015-01-08",
         "Standard Class",
         "PO-19195",
         "Phillina Ober",
         "Home Office",
         "United States",
         "Naperville",
         "Illinois",
         "60540.0",
         "Central",
         "OFF-BI-10004094",
         "Office Supplies",
         "Binders",
         "GBC Standard Plastic Binding Systems Combs",
         "3.54"
        ],
        [
         "2",
         "2015-01-04",
         "CA-2015-112326",
         "2015-01-08",
         "Standard Class",
         "PO-19195",
         "Phillina Ober",
         "Home Office",
         "United States",
         "Naperville",
         "Illinois",
         "60540.0",
         "Central",
         "OFF-ST-10002743",
         "Office Supplies",
         "Storage",
         "SAFCO Boltless Steel Shelving",
         "272.736"
        ],
        [
         "3",
         "2015-01-04",
         "CA-2015-112326",
         "2015-01-08",
         "Standard Class",
         "PO-19195",
         "Phillina Ober",
         "Home Office",
         "United States",
         "Naperville",
         "Illinois",
         "60540.0",
         "Central",
         "OFF-LA-10003223",
         "Office Supplies",
         "Labels",
         "Avery 508",
         "11.784"
        ],
        [
         "4",
         "2015-01-05",
         "CA-2015-141817",
         "2015-01-12",
         "Standard Class",
         "MB-18085",
         "Mick Brown",
         "Consumer",
         "United States",
         "Philadelphia",
         "Pennsylvania",
         "19143.0",
         "East",
         "OFF-AR-10003478",
         "Office Supplies",
         "Art",
         "Avery Hi-Liter EverBold Pen Style Fluorescent Highlighters, 4/Pack",
         "19.536"
        ]
       ],
       "shape": {
        "columns": 17,
        "rows": 5
       }
      },
      "text/html": [
       "<div>\n",
       "<style scoped>\n",
       "    .dataframe tbody tr th:only-of-type {\n",
       "        vertical-align: middle;\n",
       "    }\n",
       "\n",
       "    .dataframe tbody tr th {\n",
       "        vertical-align: top;\n",
       "    }\n",
       "\n",
       "    .dataframe thead th {\n",
       "        text-align: right;\n",
       "    }\n",
       "</style>\n",
       "<table border=\"1\" class=\"dataframe\">\n",
       "  <thead>\n",
       "    <tr style=\"text-align: right;\">\n",
       "      <th></th>\n",
       "      <th>Order Date</th>\n",
       "      <th>Order ID</th>\n",
       "      <th>Ship Date</th>\n",
       "      <th>Ship Mode</th>\n",
       "      <th>Customer ID</th>\n",
       "      <th>Customer Name</th>\n",
       "      <th>Segment</th>\n",
       "      <th>Country</th>\n",
       "      <th>City</th>\n",
       "      <th>State</th>\n",
       "      <th>Postal Code</th>\n",
       "      <th>Region</th>\n",
       "      <th>Product ID</th>\n",
       "      <th>Category</th>\n",
       "      <th>Sub-Category</th>\n",
       "      <th>Product Name</th>\n",
       "      <th>Sales</th>\n",
       "    </tr>\n",
       "  </thead>\n",
       "  <tbody>\n",
       "    <tr>\n",
       "      <th>0</th>\n",
       "      <td>2015-01-03</td>\n",
       "      <td>CA-2015-103800</td>\n",
       "      <td>2015-01-07</td>\n",
       "      <td>Standard Class</td>\n",
       "      <td>DP-13000</td>\n",
       "      <td>Darren Powers</td>\n",
       "      <td>Consumer</td>\n",
       "      <td>United States</td>\n",
       "      <td>Houston</td>\n",
       "      <td>Texas</td>\n",
       "      <td>77095.0</td>\n",
       "      <td>Central</td>\n",
       "      <td>OFF-PA-10000174</td>\n",
       "      <td>Office Supplies</td>\n",
       "      <td>Paper</td>\n",
       "      <td>Message Book, Wirebound, Four 5 1/2\" X 4\" Form...</td>\n",
       "      <td>16.448</td>\n",
       "    </tr>\n",
       "    <tr>\n",
       "      <th>1</th>\n",
       "      <td>2015-01-04</td>\n",
       "      <td>CA-2015-112326</td>\n",
       "      <td>2015-01-08</td>\n",
       "      <td>Standard Class</td>\n",
       "      <td>PO-19195</td>\n",
       "      <td>Phillina Ober</td>\n",
       "      <td>Home Office</td>\n",
       "      <td>United States</td>\n",
       "      <td>Naperville</td>\n",
       "      <td>Illinois</td>\n",
       "      <td>60540.0</td>\n",
       "      <td>Central</td>\n",
       "      <td>OFF-BI-10004094</td>\n",
       "      <td>Office Supplies</td>\n",
       "      <td>Binders</td>\n",
       "      <td>GBC Standard Plastic Binding Systems Combs</td>\n",
       "      <td>3.540</td>\n",
       "    </tr>\n",
       "    <tr>\n",
       "      <th>2</th>\n",
       "      <td>2015-01-04</td>\n",
       "      <td>CA-2015-112326</td>\n",
       "      <td>2015-01-08</td>\n",
       "      <td>Standard Class</td>\n",
       "      <td>PO-19195</td>\n",
       "      <td>Phillina Ober</td>\n",
       "      <td>Home Office</td>\n",
       "      <td>United States</td>\n",
       "      <td>Naperville</td>\n",
       "      <td>Illinois</td>\n",
       "      <td>60540.0</td>\n",
       "      <td>Central</td>\n",
       "      <td>OFF-ST-10002743</td>\n",
       "      <td>Office Supplies</td>\n",
       "      <td>Storage</td>\n",
       "      <td>SAFCO Boltless Steel Shelving</td>\n",
       "      <td>272.736</td>\n",
       "    </tr>\n",
       "    <tr>\n",
       "      <th>3</th>\n",
       "      <td>2015-01-04</td>\n",
       "      <td>CA-2015-112326</td>\n",
       "      <td>2015-01-08</td>\n",
       "      <td>Standard Class</td>\n",
       "      <td>PO-19195</td>\n",
       "      <td>Phillina Ober</td>\n",
       "      <td>Home Office</td>\n",
       "      <td>United States</td>\n",
       "      <td>Naperville</td>\n",
       "      <td>Illinois</td>\n",
       "      <td>60540.0</td>\n",
       "      <td>Central</td>\n",
       "      <td>OFF-LA-10003223</td>\n",
       "      <td>Office Supplies</td>\n",
       "      <td>Labels</td>\n",
       "      <td>Avery 508</td>\n",
       "      <td>11.784</td>\n",
       "    </tr>\n",
       "    <tr>\n",
       "      <th>4</th>\n",
       "      <td>2015-01-05</td>\n",
       "      <td>CA-2015-141817</td>\n",
       "      <td>2015-01-12</td>\n",
       "      <td>Standard Class</td>\n",
       "      <td>MB-18085</td>\n",
       "      <td>Mick Brown</td>\n",
       "      <td>Consumer</td>\n",
       "      <td>United States</td>\n",
       "      <td>Philadelphia</td>\n",
       "      <td>Pennsylvania</td>\n",
       "      <td>19143.0</td>\n",
       "      <td>East</td>\n",
       "      <td>OFF-AR-10003478</td>\n",
       "      <td>Office Supplies</td>\n",
       "      <td>Art</td>\n",
       "      <td>Avery Hi-Liter EverBold Pen Style Fluorescent ...</td>\n",
       "      <td>19.536</td>\n",
       "    </tr>\n",
       "  </tbody>\n",
       "</table>\n",
       "</div>"
      ],
      "text/plain": [
       "   Order Date        Order ID   Ship Date       Ship Mode Customer ID  \\\n",
       "0  2015-01-03  CA-2015-103800  2015-01-07  Standard Class    DP-13000   \n",
       "1  2015-01-04  CA-2015-112326  2015-01-08  Standard Class    PO-19195   \n",
       "2  2015-01-04  CA-2015-112326  2015-01-08  Standard Class    PO-19195   \n",
       "3  2015-01-04  CA-2015-112326  2015-01-08  Standard Class    PO-19195   \n",
       "4  2015-01-05  CA-2015-141817  2015-01-12  Standard Class    MB-18085   \n",
       "\n",
       "   Customer Name      Segment        Country          City         State  \\\n",
       "0  Darren Powers     Consumer  United States       Houston         Texas   \n",
       "1  Phillina Ober  Home Office  United States    Naperville      Illinois   \n",
       "2  Phillina Ober  Home Office  United States    Naperville      Illinois   \n",
       "3  Phillina Ober  Home Office  United States    Naperville      Illinois   \n",
       "4     Mick Brown     Consumer  United States  Philadelphia  Pennsylvania   \n",
       "\n",
       "   Postal Code   Region       Product ID         Category Sub-Category  \\\n",
       "0      77095.0  Central  OFF-PA-10000174  Office Supplies        Paper   \n",
       "1      60540.0  Central  OFF-BI-10004094  Office Supplies      Binders   \n",
       "2      60540.0  Central  OFF-ST-10002743  Office Supplies      Storage   \n",
       "3      60540.0  Central  OFF-LA-10003223  Office Supplies       Labels   \n",
       "4      19143.0     East  OFF-AR-10003478  Office Supplies          Art   \n",
       "\n",
       "                                        Product Name    Sales  \n",
       "0  Message Book, Wirebound, Four 5 1/2\" X 4\" Form...   16.448  \n",
       "1         GBC Standard Plastic Binding Systems Combs    3.540  \n",
       "2                      SAFCO Boltless Steel Shelving  272.736  \n",
       "3                                          Avery 508   11.784  \n",
       "4  Avery Hi-Liter EverBold Pen Style Fluorescent ...   19.536  "
      ]
     },
     "execution_count": 24,
     "metadata": {},
     "output_type": "execute_result"
    }
   ],
   "source": [
    "data.head()"
   ]
  },
  {
   "cell_type": "code",
   "execution_count": 25,
   "id": "87bc1c0a",
   "metadata": {},
   "outputs": [
    {
     "data": {
      "application/vnd.microsoft.datawrangler.viewer.v0+json": {
       "columns": [
        {
         "name": "index",
         "rawType": "object",
         "type": "string"
        },
        {
         "name": "0",
         "rawType": "int64",
         "type": "integer"
        }
       ],
       "ref": "9086e68b-dd38-447a-a90e-1fcff5c4da9c",
       "rows": [
        [
         "Order Date",
         "0"
        ],
        [
         "Order ID",
         "0"
        ],
        [
         "Ship Date",
         "0"
        ],
        [
         "Ship Mode",
         "0"
        ],
        [
         "Customer ID",
         "0"
        ],
        [
         "Customer Name",
         "0"
        ],
        [
         "Segment",
         "0"
        ],
        [
         "Country",
         "0"
        ],
        [
         "City",
         "0"
        ],
        [
         "State",
         "0"
        ],
        [
         "Postal Code",
         "0"
        ],
        [
         "Region",
         "0"
        ],
        [
         "Product ID",
         "0"
        ],
        [
         "Category",
         "0"
        ],
        [
         "Sub-Category",
         "0"
        ],
        [
         "Product Name",
         "0"
        ],
        [
         "Sales",
         "0"
        ]
       ],
       "shape": {
        "columns": 1,
        "rows": 17
       }
      },
      "text/plain": [
       "Order Date       0\n",
       "Order ID         0\n",
       "Ship Date        0\n",
       "Ship Mode        0\n",
       "Customer ID      0\n",
       "Customer Name    0\n",
       "Segment          0\n",
       "Country          0\n",
       "City             0\n",
       "State            0\n",
       "Postal Code      0\n",
       "Region           0\n",
       "Product ID       0\n",
       "Category         0\n",
       "Sub-Category     0\n",
       "Product Name     0\n",
       "Sales            0\n",
       "dtype: int64"
      ]
     },
     "execution_count": 25,
     "metadata": {},
     "output_type": "execute_result"
    }
   ],
   "source": [
    "data.isnull().sum()"
   ]
  },
  {
   "cell_type": "code",
   "execution_count": 26,
   "id": "02671aba",
   "metadata": {},
   "outputs": [
    {
     "data": {
      "application/vnd.microsoft.datawrangler.viewer.v0+json": {
       "columns": [
        {
         "name": "index",
         "rawType": "object",
         "type": "string"
        },
        {
         "name": "Postal Code",
         "rawType": "float64",
         "type": "float"
        },
        {
         "name": "Sales",
         "rawType": "float64",
         "type": "float"
        }
       ],
       "ref": "1495d36e-6d7a-4e41-ac1b-a6ad3df517b8",
       "rows": [
        [
         "count",
         "9800.0",
         "9800.0"
        ],
        [
         "mean",
         "55217.343265306125",
         "230.7690594591837"
        ],
        [
         "std",
         "32066.750532051257",
         "626.6518748388067"
        ],
        [
         "min",
         "1040.0",
         "0.444"
        ],
        [
         "25%",
         "23223.0",
         "17.248"
        ],
        [
         "50%",
         "57551.0",
         "54.489999999999995"
        ],
        [
         "75%",
         "90008.0",
         "210.60500000000002"
        ],
        [
         "max",
         "99301.0",
         "22638.48"
        ]
       ],
       "shape": {
        "columns": 2,
        "rows": 8
       }
      },
      "text/html": [
       "<div>\n",
       "<style scoped>\n",
       "    .dataframe tbody tr th:only-of-type {\n",
       "        vertical-align: middle;\n",
       "    }\n",
       "\n",
       "    .dataframe tbody tr th {\n",
       "        vertical-align: top;\n",
       "    }\n",
       "\n",
       "    .dataframe thead th {\n",
       "        text-align: right;\n",
       "    }\n",
       "</style>\n",
       "<table border=\"1\" class=\"dataframe\">\n",
       "  <thead>\n",
       "    <tr style=\"text-align: right;\">\n",
       "      <th></th>\n",
       "      <th>Postal Code</th>\n",
       "      <th>Sales</th>\n",
       "    </tr>\n",
       "  </thead>\n",
       "  <tbody>\n",
       "    <tr>\n",
       "      <th>count</th>\n",
       "      <td>9800.000000</td>\n",
       "      <td>9800.000000</td>\n",
       "    </tr>\n",
       "    <tr>\n",
       "      <th>mean</th>\n",
       "      <td>55217.343265</td>\n",
       "      <td>230.769059</td>\n",
       "    </tr>\n",
       "    <tr>\n",
       "      <th>std</th>\n",
       "      <td>32066.750532</td>\n",
       "      <td>626.651875</td>\n",
       "    </tr>\n",
       "    <tr>\n",
       "      <th>min</th>\n",
       "      <td>1040.000000</td>\n",
       "      <td>0.444000</td>\n",
       "    </tr>\n",
       "    <tr>\n",
       "      <th>25%</th>\n",
       "      <td>23223.000000</td>\n",
       "      <td>17.248000</td>\n",
       "    </tr>\n",
       "    <tr>\n",
       "      <th>50%</th>\n",
       "      <td>57551.000000</td>\n",
       "      <td>54.490000</td>\n",
       "    </tr>\n",
       "    <tr>\n",
       "      <th>75%</th>\n",
       "      <td>90008.000000</td>\n",
       "      <td>210.605000</td>\n",
       "    </tr>\n",
       "    <tr>\n",
       "      <th>max</th>\n",
       "      <td>99301.000000</td>\n",
       "      <td>22638.480000</td>\n",
       "    </tr>\n",
       "  </tbody>\n",
       "</table>\n",
       "</div>"
      ],
      "text/plain": [
       "        Postal Code         Sales\n",
       "count   9800.000000   9800.000000\n",
       "mean   55217.343265    230.769059\n",
       "std    32066.750532    626.651875\n",
       "min     1040.000000      0.444000\n",
       "25%    23223.000000     17.248000\n",
       "50%    57551.000000     54.490000\n",
       "75%    90008.000000    210.605000\n",
       "max    99301.000000  22638.480000"
      ]
     },
     "execution_count": 26,
     "metadata": {},
     "output_type": "execute_result"
    }
   ],
   "source": [
    "data.describe()"
   ]
  },
  {
   "cell_type": "code",
   "execution_count": 28,
   "id": "2287beb6",
   "metadata": {},
   "outputs": [],
   "source": [
    "data['Order Date'] = pd.to_datetime(data['Order Date']) \n",
    "data['Ship Date'] = pd.to_datetime(data['Ship Date']) "
   ]
  },
  {
   "cell_type": "code",
   "execution_count": 29,
   "id": "799d0c2b",
   "metadata": {},
   "outputs": [
    {
     "name": "stdout",
     "output_type": "stream",
     "text": [
      "<class 'pandas.core.frame.DataFrame'>\n",
      "RangeIndex: 9800 entries, 0 to 9799\n",
      "Data columns (total 17 columns):\n",
      " #   Column         Non-Null Count  Dtype         \n",
      "---  ------         --------------  -----         \n",
      " 0   Order Date     9800 non-null   datetime64[ns]\n",
      " 1   Order ID       9800 non-null   object        \n",
      " 2   Ship Date      9800 non-null   datetime64[ns]\n",
      " 3   Ship Mode      9800 non-null   object        \n",
      " 4   Customer ID    9800 non-null   object        \n",
      " 5   Customer Name  9800 non-null   object        \n",
      " 6   Segment        9800 non-null   object        \n",
      " 7   Country        9800 non-null   object        \n",
      " 8   City           9800 non-null   object        \n",
      " 9   State          9800 non-null   object        \n",
      " 10  Postal Code    9800 non-null   float64       \n",
      " 11  Region         9800 non-null   object        \n",
      " 12  Product ID     9800 non-null   object        \n",
      " 13  Category       9800 non-null   object        \n",
      " 14  Sub-Category   9800 non-null   object        \n",
      " 15  Product Name   9800 non-null   object        \n",
      " 16  Sales          9800 non-null   float64       \n",
      "dtypes: datetime64[ns](2), float64(2), object(13)\n",
      "memory usage: 1.3+ MB\n"
     ]
    }
   ],
   "source": [
    "data.info()"
   ]
  },
  {
   "cell_type": "code",
   "execution_count": 31,
   "id": "7675861d",
   "metadata": {},
   "outputs": [
    {
     "name": "stdout",
     "output_type": "stream",
     "text": [
      "Order Date Description\n",
      "\n",
      "count                             9800\n",
      "mean     2017-05-01 05:13:51.673469440\n",
      "min                2015-01-03 00:00:00\n",
      "25%                2016-05-24 00:00:00\n",
      "50%                2017-06-26 00:00:00\n",
      "75%                2018-05-15 00:00:00\n",
      "max                2018-12-30 00:00:00\n",
      "Name: Order Date, dtype: object\n",
      "\n",
      "Ship Date Description\n",
      "\n",
      "count                             9800\n",
      "mean     2017-05-05 04:17:52.653061120\n",
      "min                2015-01-07 00:00:00\n",
      "25%                2016-05-27 18:00:00\n",
      "50%                2017-06-29 00:00:00\n",
      "75%                2018-05-19 00:00:00\n",
      "max                2019-01-05 00:00:00\n",
      "Name: Ship Date, dtype: object\n"
     ]
    }
   ],
   "source": [
    "print('Order Date Description\\n') \n",
    "print(data['Order Date'].describe())\n",
    "print('\\nShip Date Description\\n')\n",
    "print(data['Ship Date'].describe())"
   ]
  },
  {
   "cell_type": "code",
   "execution_count": 32,
   "id": "3c094624",
   "metadata": {},
   "outputs": [],
   "source": [
    "data.sort_values(by='Order Date', inplace=True, ascending=True)\n",
    "data.set_index('Order Date', inplace=True)"
   ]
  },
  {
   "cell_type": "code",
   "execution_count": 34,
   "id": "3fd9464e",
   "metadata": {},
   "outputs": [],
   "source": [
    "sales_data = pd.DataFrame(data['Sales'])"
   ]
  },
  {
   "cell_type": "code",
   "execution_count": null,
   "id": "012df80c",
   "metadata": {},
   "outputs": [
    {
     "data": {
      "image/png": "[encoded data removed]",
      "text/plain": [
       "<Figure size 1500x500 with 1 Axes>"
      ]
     },
     "metadata": {},
     "output_type": "display_data"
    }
   ],
   "source": [
    "sales_data.plot(figsize=(15, 5), title='Sales Over Time', color='blue')\n",
    "\n",
    "plt.xlabel('Order Date')\n",
    "plt.ylabel('Sales')\n",
    "plt.show()"
   ]
  },
  {
   "cell_type": "code",
   "execution_count": 37,
   "id": "a1ac88da",
   "metadata": {},
   "outputs": [
    {
     "data": {
      "image/png": "[encoded data removed]",
      "text/plain": [
       "<Figure size 1500x500 with 1 Axes>"
      ]
     },
     "metadata": {},
     "output_type": "display_data"
    }
   ],
   "source": [
    "sales_data.resample('ME').mean().plot(figsize=(15, 5), title='Monthly Sales', color='green')\n",
    "plt.xlabel('Order Date')\n",
    "plt.ylabel('Sales')\n",
    "plt.show()"
   ]
  }
 ],
 "metadata": {
  "kernelspec": {
   "display_name": "dpenv",
   "language": "python",
   "name": "python3"
  },
  "language_info": {
   "codemirror_mode": {
    "name": "ipython",
    "version": 3
   },
   "file_extension": ".py",
   "mimetype": "text/x-python",
   "name": "python",
   "nbconvert_exporter": "python",
   "pygments_lexer": "ipython3",
   "version": "3.10.13"
  }
 },
 "nbformat": 4,
 "nbformat_minor": 5
}
